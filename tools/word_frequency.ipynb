{
 "cells": [
  {
   "cell_type": "code",
   "execution_count": null,
   "metadata": {},
   "outputs": [],
   "source": [
    "import os\n",
    "import seaborn as sns\n",
    "import pandas as pd\n",
    "import nltk\n",
    "import numpy as np\n",
    "import matplotlib.pyplot as plt\n",
    "nltk.download('punkt')\n",
    "from nltk.corpus import stopwords\n",
    "nltk.download('stopwords')\n",
    "from nltk import bigrams, word_tokenize, FreqDist"
   ]
  },
  {
   "cell_type": "code",
   "execution_count": 57,
   "metadata": {},
   "outputs": [],
   "source": [
    "dataset_file_path = os.path.join('..','checked_dataset', 'dataset_negatives.txt')\n",
    "\n",
    "with open(dataset_file_path, 'r', encoding='utf-8') as file:\n",
    "    lines = file.readlines()\n",
    "\n",
    "sentences = []\n",
    "microorganisms = []\n",
    "stresses = []\n",
    "plants = []\n",
    "for line in lines:\n",
    "    microorganism = line.split(\" | \")[1]\n",
    "    stress = line.split(\" | \")[2]\n",
    "    plant = line.split(\" | \")[3]\n",
    "    sentence = line.split(\" | \")[4]\n",
    "\n",
    "    microorganism_parts = microorganism.split(\" \")\n",
    "    for microorganism_part in microorganism_parts:\n",
    "        microorganisms.append(microorganism_part)\n",
    "\n",
    "    stress_parts = stress.split(\" \")\n",
    "    for stress_part in stress_parts:\n",
    "        stresses.append(stress_part)   \n",
    "   \n",
    "    plant_parts = plant.split(\" \")\n",
    "    for plant_part in plant_parts:   \n",
    "        plants.append(plant_part)\n",
    "        \n",
    "    sentences.append(sentence)\n",
    "\n",
    "fulltext = \" \".join(sentences)"
   ]
  },
  {
   "cell_type": "code",
   "execution_count": 58,
   "metadata": {},
   "outputs": [],
   "source": [
    "entities = microorganisms + plants + stresses\n",
    "spelling_errors = [\"piechaudi\", \"microccocus\", \"yunnanense\"]\n",
    "personalized_stopwords = [\",\", \".\", \"(\", \")\", \";\", \":\", \"reference\", \"-ref-\", \"figure\", \"stress\", \"plant\", \"plants\", \"bacteria\", \"pgpr\", \"virus\", \"viruses\", \"genera\", \"strain\", \"strains\", \"halophyte\", \"bacterial\", \"fungal\", \"fungi\", \"species\", \"mm\", \"ml\", \"nacl\", \"et. al\", \"also\", \"like\", \"sp.\", \"spp.\"]\n",
    "stop_words = set(stopwords.words('english'))\n",
    "fulltext_tokens = word_tokenize(fulltext)\n",
    "filtered_fulltext = [w for w in fulltext_tokens if not w.lower().strip() in stop_words\n",
    "                     and not any(chr.isdigit() for chr in w.strip())\n",
    "                     and not w.strip() in entities\n",
    "                     and not w.lower().strip() in personalized_stopwords\n",
    "                     and not w.lower().strip() in spelling_errors\n",
    "                     and not len(w)<=3]"
   ]
  },
  {
   "cell_type": "code",
   "execution_count": null,
   "metadata": {},
   "outputs": [],
   "source": [
    "final_tokens = [token.lower() for token in filtered_fulltext]\n",
    "frequency = FreqDist(final_tokens)\n",
    "frequency.most_common(15)"
   ]
  },
  {
   "cell_type": "code",
   "execution_count": null,
   "metadata": {},
   "outputs": [],
   "source": [
    "frequency.plot(15)"
   ]
  },
  {
   "cell_type": "code",
   "execution_count": null,
   "metadata": {},
   "outputs": [],
   "source": [
    "## Generate bigrams\n",
    "ngrams = bigrams(final_tokens)\n",
    "\n",
    "## Creating FreqDist\n",
    "ngram_fd = FreqDist(ngrams).most_common(20)\n",
    "\n",
    "## Sort values by highest frequency\n",
    "ngram_sorted = {k:v for k,v in sorted(ngram_fd, key=lambda x: x[1], reverse=True)}\n",
    "\n",
    "## Join bigram tokens with '_' + maintain sorting\n",
    "ngram_joined = {'_'.join(k):v for k,v in sorted(ngram_fd, key=lambda x: x[1], reverse=True)}\n",
    "\n",
    "## Convert to Pandas series for easy plotting\n",
    "ngram_freqdist = pd.Series(ngram_joined)\n",
    "\n",
    "## Setting figure & ax for plots\n",
    "fig, ax = plt.subplots(figsize=(4,4))\n",
    "\n",
    "## Setting plot to horizontal for easy viewing + setting title + display  \n",
    "bar_plot = sns.barplot(x=ngram_freqdist.values, y=ngram_freqdist.index, orient='h', ax=ax)\n",
    "plt.title('Frequency Distribution')\n",
    "plt.xlabel(\"Counts\")\n",
    "plt.ylabel(\"Bigram Combinations\")\n",
    "plt.show();"
   ]
  }
 ],
 "metadata": {
  "kernelspec": {
   "display_name": "micra",
   "language": "python",
   "name": "python3"
  },
  "language_info": {
   "codemirror_mode": {
    "name": "ipython",
    "version": 3
   },
   "file_extension": ".py",
   "mimetype": "text/x-python",
   "name": "python",
   "nbconvert_exporter": "python",
   "pygments_lexer": "ipython3",
   "version": "3.12.7"
  }
 },
 "nbformat": 4,
 "nbformat_minor": 2
}
