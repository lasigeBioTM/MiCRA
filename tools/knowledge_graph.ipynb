{
 "cells": [
  {
   "cell_type": "code",
   "execution_count": null,
   "metadata": {},
   "outputs": [],
   "source": [
    "import pandas as pd\n",
    "import os\n",
    "\n",
    "dataset_path = os.path.join('..', '2M-PAST', 'info', 'Info_DS.txt')\n",
    "with open(dataset_path, 'r', encoding='utf-8') as dataset_file:\n",
    "    lines = dataset_file.readlines()\n",
    "\n",
    "# Define the heads, relations, and tails\n",
    "head = []\n",
    "relation1 = []\n",
    "middle = []\n",
    "relation2 = []\n",
    "tail = []\n",
    "for line in lines:\n",
    "    if (line.split(' | ')[5]).strip() == \"YES\":\n",
    "        head.append(line.split(' | ')[2])\n",
    "        relation1.append(\"resilience by\")\n",
    "        middle.append(line.split(' | ')[1])\n",
    "        relation2.append(\"in\")\n",
    "        tail.append(line.split(' | ')[3])\n",
    "\n",
    "# Create a dataframe\n",
    "df = pd.DataFrame({'head': head, 'relation1': relation1, 'middle': middle, 'relation2': relation2, 'tail': tail})\n",
    "df"
   ]
  },
  {
   "cell_type": "code",
   "execution_count": 2,
   "metadata": {},
   "outputs": [],
   "source": [
    "import networkx as nx\n",
    "import matplotlib.pyplot as plt\n",
    "\n",
    "# # Uncomment if you want only the 100 most common combinations instead of the whole graph\n",
    "# most_common = df.groupby(['head', 'relation1', 'middle', 'relation2', 'tail']).size()\n",
    "# most_common = most_common.sort_values(ascending=False)\n",
    "# df = most_common.head(100).reset_index(name='count')\n",
    "\n",
    "# Create a knowledge graph\n",
    "G = nx.Graph()\n",
    "for _, row in df.iterrows():\n",
    "    G.add_edge(row['head'], row['middle'], label=row['relation1'])\n",
    "    G.add_edge(row['middle'], row['tail'], label=row['relation2'])"
   ]
  },
  {
   "cell_type": "code",
   "execution_count": null,
   "metadata": {},
   "outputs": [],
   "source": [
    "# Visualize the knowledge graph\n",
    "pos = nx.spring_layout(G, seed=42, k=0.9)\n",
    "labels = nx.get_edge_attributes(G, 'label')\n",
    "plt.figure(figsize=(30, 25))\n",
    "nx.draw(G, pos, with_labels=True, font_size=10, node_size=700, node_color='lightblue', edge_color='gray', alpha=0.6)\n",
    "nx.draw_networkx_edge_labels(G, pos, edge_labels=labels, font_size=8, label_pos=0.3, verticalalignment='baseline')\n",
    "plt.title('Knowledge Graph', fontsize=14)\n",
    "plt.show()"
   ]
  },
  {
   "cell_type": "code",
   "execution_count": null,
   "metadata": {},
   "outputs": [],
   "source": [
    "num_nodes = G.number_of_nodes()\n",
    "num_edges = G.number_of_edges()\n",
    "print(f'Number of nodes: {num_nodes}')\n",
    "print(f'Number of edges: {num_edges}')\n",
    "print(f'Ratio edges to nodes: {round(num_edges / num_nodes, 2)}')"
   ]
  },
  {
   "cell_type": "code",
   "execution_count": null,
   "metadata": {},
   "outputs": [],
   "source": [
    "degree_centrality = nx.degree_centrality(G)\n",
    "degree_centrality = dict(sorted(degree_centrality.items(), key=lambda item: item[1], reverse=True))\n",
    "print('Degree Centrality Scores:')\n",
    "for node, centrality in degree_centrality.items():\n",
    "\n",
    "    print(f'{node}: {centrality:.2f}')"
   ]
  },
  {
   "cell_type": "code",
   "execution_count": null,
   "metadata": {},
   "outputs": [],
   "source": [
    "betweenness_centrality = nx.betweenness_centrality(G)\n",
    "betweenness_centrality = dict(sorted(betweenness_centrality.items(), key=lambda item: item[1], reverse=True))\n",
    "print('Betweenness Centrality Scores:')\n",
    "for node, centrality in betweenness_centrality.items():\n",
    "    print(f'{node}: {centrality:.2f}')"
   ]
  },
  {
   "cell_type": "code",
   "execution_count": null,
   "metadata": {},
   "outputs": [],
   "source": [
    "closeness_centrality = nx.closeness_centrality(G)\n",
    "closeness_centrality = dict(sorted(closeness_centrality.items(), key=lambda item: item[1], reverse=True))\n",
    "print('Closeness Centrality Scores:')\n",
    "for node, centrality in closeness_centrality.items():\n",
    "    print(f'{node}: {centrality:.2f}')"
   ]
  },
  {
   "cell_type": "code",
   "execution_count": null,
   "metadata": {},
   "outputs": [],
   "source": [
    "eigenvector_centrality = nx.eigenvector_centrality(G, max_iter=2000)\n",
    "eigenvector_centrality = dict(sorted(eigenvector_centrality.items(), key=lambda item: item[1], reverse=True))\n",
    "print('Eigenvector Centrality Scores:')\n",
    "for node, centrality in eigenvector_centrality.items():\n",
    "    print(f'{node}: {centrality:.2f}')"
   ]
  },
  {
   "cell_type": "code",
   "execution_count": null,
   "metadata": {},
   "outputs": [],
   "source": [
    "# Degree centrality\n",
    "plt.figure(figsize=(10, 7))\n",
    "nx.draw(\n",
    "    G, pos, \n",
    "    with_labels=True, \n",
    "    font_size=5, \n",
    "    node_size=[v * 3000 for v in degree_centrality.values()], \n",
    "    node_color=list(degree_centrality.values()), \n",
    "    cmap=plt.cm.Blues, \n",
    "    edge_color='gray', \n",
    "    alpha=0.6\n",
    ")\n",
    "plt.title('Degree Centrality', fontsize=14)\n",
    "plt.show()"
   ]
  },
  {
   "cell_type": "code",
   "execution_count": null,
   "metadata": {},
   "outputs": [],
   "source": [
    "# Betweenness centrality\n",
    "plt.figure(figsize=(10, 7))\n",
    "nx.draw(\n",
    "    G, pos, \n",
    "    with_labels=True, \n",
    "    font_size=5, \n",
    "    node_size=[v * 3000 for v in betweenness_centrality.values()], \n",
    "    node_color=list(betweenness_centrality.values()), \n",
    "    cmap=plt.cm.Oranges, \n",
    "    edge_color='gray', \n",
    "    alpha=0.6\n",
    ")\n",
    "plt.title('Betweenness Centrality', fontsize=14)\n",
    "plt.show()"
   ]
  },
  {
   "cell_type": "code",
   "execution_count": null,
   "metadata": {},
   "outputs": [],
   "source": [
    "# Closeness centrality\n",
    "plt.figure(figsize=(10, 7))\n",
    "nx.draw(\n",
    "    G, pos, \n",
    "    with_labels=True, \n",
    "    font_size=5, \n",
    "    node_size=[v * 3000 for v in closeness_centrality.values()], \n",
    "    node_color=list(closeness_centrality.values()), \n",
    "    cmap=plt.cm.Greens, \n",
    "    edge_color='gray', \n",
    "    alpha=0.6\n",
    ")\n",
    "plt.title('Closeness Centrality', fontsize=14)\n",
    "plt.show()"
   ]
  },
  {
   "cell_type": "code",
   "execution_count": null,
   "metadata": {},
   "outputs": [],
   "source": [
    "source_node = 'Vitis vinifera'\n",
    "target_node = 'drought'\n",
    "\n",
    "try:\n",
    "    # Find all shortest paths\n",
    "    all_shortest_paths = list(nx.all_shortest_paths(G, source=source_node.capitalize(), target=target_node.capitalize()))\n",
    "    # Limit to the first 10 shortest paths if there are more\n",
    "    all_shortest_paths = all_shortest_paths[:10]\n",
    "\n",
    "    # Visualize each shortest path\n",
    "    plt.figure(figsize=(24, 20))\n",
    "    pos = nx.spring_layout(G)  # Generate layout for consistent visualization\n",
    "    nx.draw(G, pos, with_labels=True, font_size=10, node_size=400, node_color='lightblue', edge_color='gray', alpha=0.6)\n",
    "    for idx, path in enumerate(all_shortest_paths):\n",
    "        path_edges = [(path[i], path[i + 1]) for i in range(len(path) - 1)]\n",
    "        nx.draw_networkx_edges(G, pos, edgelist=path_edges, edge_color='red', width=2, alpha=0.8, label=f'Path {idx+1}')\n",
    "\n",
    "    plt.title(f'10 Shortest Paths from {source_node} to {target_node}', fontsize=20)\n",
    "    plt.legend()\n",
    "    plt.show()\n",
    "\n",
    "    # Print all shortest paths\n",
    "    print(f\"Shortest Paths from {source_node} to {target_node} (showing up to 10):\")\n",
    "    for idx, path in enumerate(all_shortest_paths, 1):\n",
    "        print(f\"Path {idx}: {path}\")\n",
    "\n",
    "except:\n",
    "    print(f'{source_node.capitalize()} or {target_node} does not exist in dataset, please check again!')\n"
   ]
  }
 ],
 "metadata": {
  "kernelspec": {
   "display_name": "micra",
   "language": "python",
   "name": "python3"
  },
  "language_info": {
   "codemirror_mode": {
    "name": "ipython",
    "version": 3
   },
   "file_extension": ".py",
   "mimetype": "text/x-python",
   "name": "python",
   "nbconvert_exporter": "python",
   "pygments_lexer": "ipython3",
   "version": "3.12.7"
  }
 },
 "nbformat": 4,
 "nbformat_minor": 2
}
